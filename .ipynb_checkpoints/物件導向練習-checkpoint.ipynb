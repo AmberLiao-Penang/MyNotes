{
 "cells": [
  {
   "cell_type": "markdown",
   "id": "ba303ed1",
   "metadata": {},
   "source": [
    "物件導向三大特性："
   ]
  },
  {
   "cell_type": "markdown",
   "id": "32ccbdf4",
   "metadata": {},
   "source": [
    "封裝：\n",
    "\n",
    "定義萊絲\n",
    "\n",
    "    萊絲.設定音調(5)\n",
    "    萊絲.吸氣()\n",
    "    萊絲.吐氣()\n",
    "    /* 而當狗的吠叫被封裝到類別中，任何人都可以簡單地使用： */\n",
    "定義萊絲是狗\n",
    "\n",
    "    萊絲.吠叫()"
   ]
  },
  {
   "cell_type": "markdown",
   "id": "ebdf97d5",
   "metadata": {},
   "source": [
    "繼承\n",
    "類別吉娃娃犬 : 繼承狗\n",
    "    開始\n",
    "        公有成員:\n",
    "            顫抖()\n",
    "    結束\n",
    "    類別牧羊犬 : 繼承狗\n",
    "\n",
    "定義萊絲是牧羊犬\n",
    "萊絲.顫抖()    /* 錯誤：顫抖是吉娃娃犬的成員方法。 */"
   ]
  },
  {
   "cell_type": "markdown",
   "id": "8a301e73",
   "metadata": {},
   "source": [
    "多型"
   ]
  },
  {
   "cell_type": "code",
   "execution_count": null,
   "id": "a1519273",
   "metadata": {},
   "outputs": [],
   "source": [
    "class Car{\n",
    "    public String brand;\n",
    "    public String type;\n",
    "    public int hp;\n",
    "    public String getInformation(){\n",
    "      return \"廠牌\"+brand+\"型號\"+type+\"馬力\"+hp;     \n",
    "    }\n",
    "}\n",
    "class Taxi extends Car{\n",
    "    public String driverName;\n",
    "}"
   ]
  },
  {
   "cell_type": "code",
   "execution_count": null,
   "id": "e508b0ce",
   "metadata": {},
   "outputs": [],
   "source": []
  },
  {
   "cell_type": "code",
   "execution_count": null,
   "id": "8b4d24a9",
   "metadata": {},
   "outputs": [],
   "source": []
  },
  {
   "cell_type": "code",
   "execution_count": null,
   "id": "2b88c993",
   "metadata": {},
   "outputs": [],
   "source": []
  },
  {
   "cell_type": "code",
   "execution_count": 6,
   "id": "177cb30b",
   "metadata": {},
   "outputs": [],
   "source": [
    "class Cat2:\n",
    "    def __init__(self,name,age,color):\n",
    "        self.name=name\n",
    "        self.age=age\n",
    "        self.color=color "
   ]
  },
  {
   "cell_type": "code",
   "execution_count": 7,
   "id": "d6565e64",
   "metadata": {},
   "outputs": [
    {
     "name": "stdout",
     "output_type": "stream",
     "text": [
      "輸入寵物名1ANDY\n",
      "pet1 age2\n",
      "pet1 colorWHITE\n",
      "輸入寵物名1BANANA \n",
      "pet1 age2\n",
      "pet1 colorBLACK\n",
      "輸入寵物名1COKE\n",
      "pet1 age5\n",
      "pet1 colorPINK\n",
      "name ANDY\n",
      "age 2\n",
      "color WHITE\n",
      "name BANANA \n",
      "age 2\n",
      "color BLACK\n",
      "name COKE\n",
      "age 5\n",
      "color PINK\n"
     ]
    }
   ],
   "source": [
    "cats=[]\n",
    "\n",
    "for times in range(3):\n",
    "    cats.append( Cat2(input(\"輸入寵物名1\"),input(\"pet1 age\"),input(\"pet1 color\")))\n",
    "\n",
    "\n",
    "for x in cats:\n",
    "    print(\"name\",x.name)\n",
    "    print(\"age\",x.age)\n",
    "    print(\"color\",x.color)"
   ]
  },
  {
   "cell_type": "code",
   "execution_count": null,
   "id": "f47d5a25",
   "metadata": {},
   "outputs": [],
   "source": []
  }
 ],
 "metadata": {
  "kernelspec": {
   "display_name": "Python 3 (ipykernel)",
   "language": "python",
   "name": "python3"
  },
  "language_info": {
   "codemirror_mode": {
    "name": "ipython",
    "version": 3
   },
   "file_extension": ".py",
   "mimetype": "text/x-python",
   "name": "python",
   "nbconvert_exporter": "python",
   "pygments_lexer": "ipython3",
   "version": "3.9.7"
  },
  "toc": {
   "base_numbering": 1,
   "nav_menu": {},
   "number_sections": true,
   "sideBar": true,
   "skip_h1_title": false,
   "title_cell": "Table of Contents",
   "title_sidebar": "Contents",
   "toc_cell": false,
   "toc_position": {},
   "toc_section_display": true,
   "toc_window_display": false
  }
 },
 "nbformat": 4,
 "nbformat_minor": 5
}
